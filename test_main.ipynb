{
 "cells": [
  {
   "cell_type": "code",
   "execution_count": null,
   "metadata": {},
   "outputs": [],
   "source": [
    "from main import main_loop\n",
    "main_loop(500, warm_start_gen=100)"
   ]
  },
  {
   "cell_type": "code",
   "execution_count": null,
   "metadata": {},
   "outputs": [],
   "source": [
    "import pandas as pd\n",
    "import os\n",
    "list1 = os.listdir(r\"C:\\Users\\YOURFOLDER\\ai_gym_playground\\logs\\stats\")\n",
    "list1\n",
    "file_dict = {}\n",
    "for string in list1:\n",
    "    string_altered = string.replace(\".\",\"_\")\n",
    "    string_list = string_altered.split(\"_\")\n",
    "    file_dict[int(string_list[1])] = string\n",
    "    \n",
    "\n",
    "mega_frame = pd.DataFrame()\n",
    "for gen in file_dict:\n",
    "    ser = pd.Series(pd.read_pickle(f\"logs/stats/{file_dict[gen]}\"), name=str(gen))\n",
    "\n",
    "    df = ser.reset_index().transpose()\n",
    "\n",
    "    mega_frame = pd.concat([mega_frame, df.drop(\"index\")],axis=0)\n",
    "mega_frame.index = mega_frame.index.astype(int)\n",
    "mega_frame = mega_frame.sort_index()\n",
    "mega_frame.loc[:,\"average\"]=mega_frame.sum(axis=1) / 100\n",
    "mega_frame.loc[:,\"min\"] = mega_frame.min(axis=1)\n",
    "mega_frame.loc[:,\"max\"] = mega_frame.max(axis=1)\n",
    "mega_frame.loc[:,\"rolling_average\"] = mega_frame['average'].rolling(5).mean()\n",
    "mega_frame.loc[:,\"rolling_max\"] = mega_frame['max'].rolling(5).mean()\n",
    "mega_frame[\"rolling_max\"].plot(figsize=(15,8),title=\"Rolling max fitness per gen\")"
   ]
  },
  {
   "cell_type": "code",
   "execution_count": null,
   "metadata": {},
   "outputs": [],
   "source": []
  },
  {
   "cell_type": "code",
   "execution_count": null,
   "metadata": {},
   "outputs": [],
   "source": []
  },
  {
   "cell_type": "code",
   "execution_count": null,
   "metadata": {},
   "outputs": [],
   "source": []
  }
 ],
 "metadata": {
  "interpreter": {
   "hash": "33add7a9da76b41833fe01c1b8f63df2dfdeb64c91eefd54716589715a625613"
  },
  "kernelspec": {
   "display_name": "Python 3.10.4 ('ai-gym-EnovzfMl-py3.10')",
   "language": "python",
   "name": "python3"
  },
  "language_info": {
   "codemirror_mode": {
    "name": "ipython",
    "version": 3
   },
   "file_extension": ".py",
   "mimetype": "text/x-python",
   "name": "python",
   "nbconvert_exporter": "python",
   "pygments_lexer": "ipython3",
   "version": "3.10.4"
  },
  "orig_nbformat": 4
 },
 "nbformat": 4,
 "nbformat_minor": 2
}
