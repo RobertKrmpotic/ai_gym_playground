{
 "cells": [
  {
   "cell_type": "code",
   "execution_count": 1,
   "metadata": {},
   "outputs": [],
   "source": []
  },
  {
   "cell_type": "markdown",
   "metadata": {},
   "source": [
    "## Playground"
   ]
  },
  {
   "cell_type": "code",
   "execution_count": 5,
   "metadata": {},
   "outputs": [],
   "source": [
    "import numpy as np\n",
    "import tensorflow as tf\n",
    "from tensorflow import keras\n",
    "from tensorflow.keras.layers import Activation, Dense\n",
    "from tensorflow.keras.models import Sequential\n",
    "\n",
    "def create_sequential_model(len_input:int, len_output:int, n_hidden_layers:int=0, len_hidden_layers:int=10,):\n",
    "    if n_hidden_layers==0:\n",
    "        model = Sequential([Dense(units=len_output, input_shape=(len_input,), activation=\"relu\", bias_initializer=\"RandomNormal\" )])        \n",
    "        return model\n",
    "    #else model = Sequential([input_layer, hidden_layers, output_layer])\n",
    "\n",
    "def spit_output_largest(model, input_params:np.array, len_input:int):\n",
    "        #run neural net and convert input to command\n",
    "        decisions = model(input_params.reshape(1,len_input), training=False)\n",
    "        command_int = decisions.numpy().argmax()\n",
    "        return command_int\n",
    "\n",
    "def spit_output_all(model, input_params:np.array, len_input:int):\n",
    "        #run neural net and convert input to command\n",
    "        decisions = model(input_params.reshape(1,len_input), training=False)\n",
    "        return decisions"
   ]
  },
  {
   "cell_type": "code",
   "execution_count": 6,
   "metadata": {},
   "outputs": [],
   "source": [
    "import gym\n",
    "\n",
    "def run_simulation_walker(n_episodes:int=10, episode_len_limit:int =100 ,name:str = \"BipedalWalker-v3\", len_output:int=2):\n",
    "    env = gym.make(name)\n",
    "    #run each episode\n",
    "    for i_episode in range(n_episodes+1):\n",
    "        observation = env.reset()\n",
    "        model = create_sequential_model(len_input=len(observation), len_output=len_output)\n",
    "        fitness = 0\n",
    "        #run each step\n",
    "        for t in range(episode_len_limit):\n",
    "            env.render()\n",
    "            action = spit_output_all(model, observation,len(observation)) \n",
    "            observation, reward, done, info = env.step(action)\n",
    "            fitness += reward\n",
    "            if done:\n",
    "                print(\"Episode finished after {} timesteps, fitness = {}\".format(t+1, fitness))\n",
    "                break\n",
    "    env.close()"
   ]
  },
  {
   "cell_type": "code",
   "execution_count": 7,
   "metadata": {},
   "outputs": [],
   "source": [
    "import gym\n",
    "\n",
    "def run_simulation(n_episodes:int=5, episode_len_limit:int =100 ,name:str = \"CartPole-v1\"):\n",
    "    env = gym.make(name)\n",
    "    #run each episode\n",
    "    for i_episode in range(n_episodes+1):\n",
    "        observation = env.reset()\n",
    "        len_output = int(str(env.action_space).split(\"(\")[1].split(\")\")[0])\n",
    "        model = create_sequential_model(len_input=len(observation), len_output=len_output)\n",
    "        fitness = 0\n",
    "        #run each step\n",
    "        for t in range(episode_len_limit):\n",
    "            env.render()\n",
    "            action = spit_output_largest(model, observation,len(observation)) \n",
    "            observation, reward, done, info = env.step(action)\n",
    "            fitness += reward\n",
    "            if done:\n",
    "                print(\"Episode finished after {} timesteps, fitness = {}\".format(t+1, fitness))\n",
    "                break\n",
    "    env.close()"
   ]
  },
  {
   "cell_type": "code",
   "execution_count": 3,
   "metadata": {},
   "outputs": [
    {
     "ename": "NameError",
     "evalue": "name 'create_sequential_model' is not defined",
     "output_type": "error",
     "traceback": [
      "\u001b[1;31m---------------------------------------------------------------------------\u001b[0m",
      "\u001b[1;31mNameError\u001b[0m                                 Traceback (most recent call last)",
      "\u001b[1;32mz:\\SSD BACKUP\\Downloads\\Cheating is learning\\ai_gym\\test.ipynb Cell 6'\u001b[0m in \u001b[0;36m<cell line: 1>\u001b[1;34m()\u001b[0m\n\u001b[1;32m----> <a href='vscode-notebook-cell:/z%3A/SSD%20BACKUP/Downloads/Cheating%20is%20learning/ai_gym/test.ipynb#ch0000005?line=0'>1</a>\u001b[0m run_simulation(name\u001b[39m=\u001b[39;49m\u001b[39m\"\u001b[39;49m\u001b[39mCartPole-v1\u001b[39;49m\u001b[39m\"\u001b[39;49m)\n",
      "\u001b[1;32mz:\\SSD BACKUP\\Downloads\\Cheating is learning\\ai_gym\\test.ipynb Cell 5'\u001b[0m in \u001b[0;36mrun_simulation\u001b[1;34m(n_episodes, episode_len_limit, name)\u001b[0m\n\u001b[0;32m      <a href='vscode-notebook-cell:/z%3A/SSD%20BACKUP/Downloads/Cheating%20is%20learning/ai_gym/test.ipynb#ch0000004?line=6'>7</a>\u001b[0m observation \u001b[39m=\u001b[39m env\u001b[39m.\u001b[39mreset()\n\u001b[0;32m      <a href='vscode-notebook-cell:/z%3A/SSD%20BACKUP/Downloads/Cheating%20is%20learning/ai_gym/test.ipynb#ch0000004?line=7'>8</a>\u001b[0m len_output \u001b[39m=\u001b[39m \u001b[39mint\u001b[39m(\u001b[39mstr\u001b[39m(env\u001b[39m.\u001b[39maction_space)\u001b[39m.\u001b[39msplit(\u001b[39m\"\u001b[39m\u001b[39m(\u001b[39m\u001b[39m\"\u001b[39m)[\u001b[39m1\u001b[39m]\u001b[39m.\u001b[39msplit(\u001b[39m\"\u001b[39m\u001b[39m)\u001b[39m\u001b[39m\"\u001b[39m)[\u001b[39m0\u001b[39m])\n\u001b[1;32m----> <a href='vscode-notebook-cell:/z%3A/SSD%20BACKUP/Downloads/Cheating%20is%20learning/ai_gym/test.ipynb#ch0000004?line=8'>9</a>\u001b[0m model \u001b[39m=\u001b[39m create_sequential_model(len_input\u001b[39m=\u001b[39m\u001b[39mlen\u001b[39m(observation), len_output\u001b[39m=\u001b[39mlen_output)\n\u001b[0;32m     <a href='vscode-notebook-cell:/z%3A/SSD%20BACKUP/Downloads/Cheating%20is%20learning/ai_gym/test.ipynb#ch0000004?line=9'>10</a>\u001b[0m fitness \u001b[39m=\u001b[39m \u001b[39m0\u001b[39m\n\u001b[0;32m     <a href='vscode-notebook-cell:/z%3A/SSD%20BACKUP/Downloads/Cheating%20is%20learning/ai_gym/test.ipynb#ch0000004?line=10'>11</a>\u001b[0m \u001b[39m#run each step\u001b[39;00m\n",
      "\u001b[1;31mNameError\u001b[0m: name 'create_sequential_model' is not defined"
     ]
    }
   ],
   "source": [
    "run_simulation(name=\"CartPole-v1\")"
   ]
  },
  {
   "cell_type": "code",
   "execution_count": 11,
   "metadata": {},
   "outputs": [
    {
     "ename": "AttributeError",
     "evalue": "module 'gym.envs.box2d' has no attribute 'BipedalWalker'",
     "output_type": "error",
     "traceback": [
      "\u001b[1;31m---------------------------------------------------------------------------\u001b[0m",
      "\u001b[1;31mAttributeError\u001b[0m                            Traceback (most recent call last)",
      "\u001b[1;32mz:\\SSD BACKUP\\Downloads\\Cheating is learning\\ai_gym\\test.ipynb Cell 7'\u001b[0m in \u001b[0;36m<cell line: 1>\u001b[1;34m()\u001b[0m\n\u001b[1;32m----> <a href='vscode-notebook-cell:/z%3A/SSD%20BACKUP/Downloads/Cheating%20is%20learning/ai_gym/test.ipynb#ch0000009?line=0'>1</a>\u001b[0m run_simulation_walker()\n",
      "\u001b[1;32mz:\\SSD BACKUP\\Downloads\\Cheating is learning\\ai_gym\\test.ipynb Cell 4'\u001b[0m in \u001b[0;36mrun_simulation_walker\u001b[1;34m(n_episodes, episode_len_limit, name, len_output)\u001b[0m\n\u001b[0;32m      <a href='vscode-notebook-cell:/z%3A/SSD%20BACKUP/Downloads/Cheating%20is%20learning/ai_gym/test.ipynb#ch0000003?line=2'>3</a>\u001b[0m \u001b[39mdef\u001b[39;00m \u001b[39mrun_simulation_walker\u001b[39m(n_episodes:\u001b[39mint\u001b[39m\u001b[39m=\u001b[39m\u001b[39m10\u001b[39m, episode_len_limit:\u001b[39mint\u001b[39m \u001b[39m=\u001b[39m\u001b[39m100\u001b[39m ,name:\u001b[39mstr\u001b[39m \u001b[39m=\u001b[39m \u001b[39m\"\u001b[39m\u001b[39mBipedalWalker-v3\u001b[39m\u001b[39m\"\u001b[39m, len_output:\u001b[39mint\u001b[39m\u001b[39m=\u001b[39m\u001b[39m2\u001b[39m):\n\u001b[1;32m----> <a href='vscode-notebook-cell:/z%3A/SSD%20BACKUP/Downloads/Cheating%20is%20learning/ai_gym/test.ipynb#ch0000003?line=3'>4</a>\u001b[0m     env \u001b[39m=\u001b[39m gym\u001b[39m.\u001b[39;49mmake(name)\n\u001b[0;32m      <a href='vscode-notebook-cell:/z%3A/SSD%20BACKUP/Downloads/Cheating%20is%20learning/ai_gym/test.ipynb#ch0000003?line=4'>5</a>\u001b[0m     \u001b[39m#run each episode\u001b[39;00m\n\u001b[0;32m      <a href='vscode-notebook-cell:/z%3A/SSD%20BACKUP/Downloads/Cheating%20is%20learning/ai_gym/test.ipynb#ch0000003?line=5'>6</a>\u001b[0m     \u001b[39mfor\u001b[39;00m i_episode \u001b[39min\u001b[39;00m \u001b[39mrange\u001b[39m(n_episodes\u001b[39m+\u001b[39m\u001b[39m1\u001b[39m):\n",
      "File \u001b[1;32m~\\AppData\\Local\\Programs\\Python\\Python310\\lib\\site-packages\\gym\\envs\\registration.py:676\u001b[0m, in \u001b[0;36mmake\u001b[1;34m(id, **kwargs)\u001b[0m\n\u001b[0;32m    <a href='file:///c%3A/Users/Robert/AppData/Local/Programs/Python/Python310/lib/site-packages/gym/envs/registration.py?line=674'>675</a>\u001b[0m \u001b[39mdef\u001b[39;00m \u001b[39mmake\u001b[39m(\u001b[39mid\u001b[39m: \u001b[39mstr\u001b[39m, \u001b[39m*\u001b[39m\u001b[39m*\u001b[39mkwargs) \u001b[39m-\u001b[39m\u001b[39m>\u001b[39m \u001b[39m\"\u001b[39m\u001b[39mEnv\u001b[39m\u001b[39m\"\u001b[39m:\n\u001b[1;32m--> <a href='file:///c%3A/Users/Robert/AppData/Local/Programs/Python/Python310/lib/site-packages/gym/envs/registration.py?line=675'>676</a>\u001b[0m     \u001b[39mreturn\u001b[39;00m registry\u001b[39m.\u001b[39mmake(\u001b[39mid\u001b[39m, \u001b[39m*\u001b[39m\u001b[39m*\u001b[39mkwargs)\n",
      "File \u001b[1;32m~\\AppData\\Local\\Programs\\Python\\Python310\\lib\\site-packages\\gym\\envs\\registration.py:520\u001b[0m, in \u001b[0;36mEnvRegistry.make\u001b[1;34m(self, path, **kwargs)\u001b[0m\n\u001b[0;32m    <a href='file:///c%3A/Users/Robert/AppData/Local/Programs/Python/Python310/lib/site-packages/gym/envs/registration.py?line=517'>518</a>\u001b[0m spec \u001b[39m=\u001b[39m \u001b[39mself\u001b[39m\u001b[39m.\u001b[39mspec(path)\n\u001b[0;32m    <a href='file:///c%3A/Users/Robert/AppData/Local/Programs/Python/Python310/lib/site-packages/gym/envs/registration.py?line=518'>519</a>\u001b[0m \u001b[39m# Construct the environment\u001b[39;00m\n\u001b[1;32m--> <a href='file:///c%3A/Users/Robert/AppData/Local/Programs/Python/Python310/lib/site-packages/gym/envs/registration.py?line=519'>520</a>\u001b[0m \u001b[39mreturn\u001b[39;00m spec\u001b[39m.\u001b[39mmake(\u001b[39m*\u001b[39m\u001b[39m*\u001b[39mkwargs)\n",
      "File \u001b[1;32m~\\AppData\\Local\\Programs\\Python\\Python310\\lib\\site-packages\\gym\\envs\\registration.py:139\u001b[0m, in \u001b[0;36mEnvSpec.make\u001b[1;34m(self, **kwargs)\u001b[0m\n\u001b[0;32m    <a href='file:///c%3A/Users/Robert/AppData/Local/Programs/Python/Python310/lib/site-packages/gym/envs/registration.py?line=136'>137</a>\u001b[0m     env \u001b[39m=\u001b[39m \u001b[39mself\u001b[39m\u001b[39m.\u001b[39mentry_point(\u001b[39m*\u001b[39m\u001b[39m*\u001b[39m_kwargs)\n\u001b[0;32m    <a href='file:///c%3A/Users/Robert/AppData/Local/Programs/Python/Python310/lib/site-packages/gym/envs/registration.py?line=137'>138</a>\u001b[0m \u001b[39melse\u001b[39;00m:\n\u001b[1;32m--> <a href='file:///c%3A/Users/Robert/AppData/Local/Programs/Python/Python310/lib/site-packages/gym/envs/registration.py?line=138'>139</a>\u001b[0m     \u001b[39mcls\u001b[39m \u001b[39m=\u001b[39m load(\u001b[39mself\u001b[39;49m\u001b[39m.\u001b[39;49mentry_point)\n\u001b[0;32m    <a href='file:///c%3A/Users/Robert/AppData/Local/Programs/Python/Python310/lib/site-packages/gym/envs/registration.py?line=139'>140</a>\u001b[0m     env \u001b[39m=\u001b[39m \u001b[39mcls\u001b[39m(\u001b[39m*\u001b[39m\u001b[39m*\u001b[39m_kwargs)\n\u001b[0;32m    <a href='file:///c%3A/Users/Robert/AppData/Local/Programs/Python/Python310/lib/site-packages/gym/envs/registration.py?line=141'>142</a>\u001b[0m \u001b[39m# Make the environment aware of which spec it came from.\u001b[39;00m\n",
      "File \u001b[1;32m~\\AppData\\Local\\Programs\\Python\\Python310\\lib\\site-packages\\gym\\envs\\registration.py:56\u001b[0m, in \u001b[0;36mload\u001b[1;34m(name)\u001b[0m\n\u001b[0;32m     <a href='file:///c%3A/Users/Robert/AppData/Local/Programs/Python/Python310/lib/site-packages/gym/envs/registration.py?line=53'>54</a>\u001b[0m mod_name, attr_name \u001b[39m=\u001b[39m name\u001b[39m.\u001b[39msplit(\u001b[39m\"\u001b[39m\u001b[39m:\u001b[39m\u001b[39m\"\u001b[39m)\n\u001b[0;32m     <a href='file:///c%3A/Users/Robert/AppData/Local/Programs/Python/Python310/lib/site-packages/gym/envs/registration.py?line=54'>55</a>\u001b[0m mod \u001b[39m=\u001b[39m importlib\u001b[39m.\u001b[39mimport_module(mod_name)\n\u001b[1;32m---> <a href='file:///c%3A/Users/Robert/AppData/Local/Programs/Python/Python310/lib/site-packages/gym/envs/registration.py?line=55'>56</a>\u001b[0m fn \u001b[39m=\u001b[39m \u001b[39mgetattr\u001b[39;49m(mod, attr_name)\n\u001b[0;32m     <a href='file:///c%3A/Users/Robert/AppData/Local/Programs/Python/Python310/lib/site-packages/gym/envs/registration.py?line=56'>57</a>\u001b[0m \u001b[39mreturn\u001b[39;00m fn\n",
      "\u001b[1;31mAttributeError\u001b[0m: module 'gym.envs.box2d' has no attribute 'BipedalWalker'"
     ]
    }
   ],
   "source": [
    "run_simulation_walker()"
   ]
  },
  {
   "cell_type": "code",
   "execution_count": 44,
   "metadata": {},
   "outputs": [
    {
     "data": {
      "text/plain": [
       "Box([-4.8000002e+00 -3.4028235e+38 -4.1887903e-01 -3.4028235e+38], [4.8000002e+00 3.4028235e+38 4.1887903e-01 3.4028235e+38], (4,), float32)"
      ]
     },
     "execution_count": 44,
     "metadata": {},
     "output_type": "execute_result"
    }
   ],
   "source": [
    "env.observation_space"
   ]
  },
  {
   "cell_type": "code",
   "execution_count": 43,
   "metadata": {},
   "outputs": [
    {
     "name": "stdout",
     "output_type": "stream",
     "text": [
      "ValuesView(├──CartPole: [ v0, v1 ]\n",
      "├──MountainCar: [ v0 ]\n",
      "├──MountainCarContinuous: [ v0 ]\n",
      "├──Pendulum: [ v1 ]\n",
      "├──Acrobot: [ v1 ]\n",
      "├──LunarLander: [ v2 ]\n",
      "├──LunarLanderContinuous: [ v2 ]\n",
      "├──BipedalWalker: [ v3 ]\n",
      "├──BipedalWalkerHardcore: [ v3 ]\n",
      "├──CarRacing: [ v1 ]\n",
      "├──Blackjack: [ v1 ]\n",
      "├──FrozenLake: [ v1 ]\n",
      "├──FrozenLake8x8: [ v1 ]\n",
      "├──CliffWalking: [ v0 ]\n",
      "├──Taxi: [ v3 ]\n",
      "├──Reacher: [ v2 ]\n",
      "├──Pusher: [ v2 ]\n",
      "├──InvertedPendulum: [ v2 ]\n",
      "├──InvertedDoublePendulum: [ v2 ]\n",
      "├──HalfCheetah: [ v2, v3 ]\n",
      "├──Hopper: [ v2, v3 ]\n",
      "├──Swimmer: [ v2, v3 ]\n",
      "├──Walker2d: [ v2, v3 ]\n",
      "├──Ant: [ v2, v3 ]\n",
      "├──Humanoid: [ v2, v3 ]\n",
      "└──HumanoidStandup: [ v2 ]\n",
      ")\n"
     ]
    }
   ],
   "source": [
    "from gym import envs\n",
    "print(envs.registry.all())"
   ]
  },
  {
   "cell_type": "code",
   "execution_count": null,
   "metadata": {},
   "outputs": [],
   "source": []
  }
 ],
 "metadata": {
  "interpreter": {
   "hash": "c5945397462695b720011818cb237bf578fb8ee89454d8c63bc71f901f2755d1"
  },
  "kernelspec": {
   "display_name": "Python 3.10.4 64-bit",
   "language": "python",
   "name": "python3"
  },
  "language_info": {
   "codemirror_mode": {
    "name": "ipython",
    "version": 3
   },
   "file_extension": ".py",
   "mimetype": "text/x-python",
   "name": "python",
   "nbconvert_exporter": "python",
   "pygments_lexer": "ipython3",
   "version": "3.10.4"
  },
  "orig_nbformat": 4
 },
 "nbformat": 4,
 "nbformat_minor": 2
}
